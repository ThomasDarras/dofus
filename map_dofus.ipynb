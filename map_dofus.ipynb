{
  "nbformat": 4,
  "nbformat_minor": 0,
  "metadata": {
    "colab": {
      "provenance": [],
      "authorship_tag": "ABX9TyNrjER44mJn2ycehsuy9Uii",
      "include_colab_link": true
    },
    "kernelspec": {
      "name": "python3",
      "display_name": "Python 3"
    },
    "language_info": {
      "name": "python"
    }
  },
  "cells": [
    {
      "cell_type": "markdown",
      "metadata": {
        "id": "view-in-github",
        "colab_type": "text"
      },
      "source": [
        "<a href=\"https://colab.research.google.com/github/ThomasDarras/dofus/blob/main/map_dofus.ipynb\" target=\"_parent\"><img src=\"https://colab.research.google.com/assets/colab-badge.svg\" alt=\"Open In Colab\"/></a>"
      ]
    },
    {
      "cell_type": "code",
      "source": [
        "pip install requests Pillow"
      ],
      "metadata": {
        "colab": {
          "base_uri": "https://localhost:8080/"
        },
        "id": "IdFnq4IOaM_V",
        "outputId": "db09bcb3-116e-4c00-fba8-d3a361a1db38"
      },
      "execution_count": 1,
      "outputs": [
        {
          "output_type": "stream",
          "name": "stdout",
          "text": [
            "Requirement already satisfied: requests in /usr/local/lib/python3.10/dist-packages (2.31.0)\n",
            "Requirement already satisfied: Pillow in /usr/local/lib/python3.10/dist-packages (9.4.0)\n",
            "Requirement already satisfied: charset-normalizer<4,>=2 in /usr/local/lib/python3.10/dist-packages (from requests) (3.3.2)\n",
            "Requirement already satisfied: idna<4,>=2.5 in /usr/local/lib/python3.10/dist-packages (from requests) (3.7)\n",
            "Requirement already satisfied: urllib3<3,>=1.21.1 in /usr/local/lib/python3.10/dist-packages (from requests) (2.0.7)\n",
            "Requirement already satisfied: certifi>=2017.4.17 in /usr/local/lib/python3.10/dist-packages (from requests) (2024.7.4)\n"
          ]
        }
      ]
    },
    {
      "cell_type": "code",
      "execution_count": 6,
      "metadata": {
        "colab": {
          "base_uri": "https://localhost:8080/"
        },
        "id": "rg1wNJQRYgFJ",
        "outputId": "4aa09e94-6262-451b-b471-972896728182"
      },
      "outputs": [
        {
          "output_type": "stream",
          "name": "stdout",
          "text": [
            "Cloning into 'main'...\n",
            "fatal: repository 'https://github.com/ThomasDarras/Kylian_Dofus/tree/main.git/' not found\n",
            "L'image a été sauvegardée sous /content/Kylian_Dofus/images/40.jpg\n",
            "fatal: not a git repository (or any of the parent directories): .git\n",
            "fatal: not a git repository (or any of the parent directories): .git\n",
            "fatal: not a git repository (or any of the parent directories): .git\n"
          ]
        }
      ],
      "source": [
        "# Cloner le dépôt GitHub\n",
        "!git clone https://github.com/ThomasDarras/Kylian_Dofus/tree/main.git\n",
        "\n",
        "import requests\n",
        "from PIL import Image\n",
        "from io import BytesIO\n",
        "import os\n",
        "\n",
        "def download_image(url, save_directory, save_name=None):\n",
        "    try:\n",
        "        # Envoyer une requête GET pour télécharger l'image\n",
        "        response = requests.get(url)\n",
        "        response.raise_for_status()  # Vérifier si la requête a réussi\n",
        "\n",
        "        # Ouvrir l'image à partir du contenu téléchargé\n",
        "        image = Image.open(BytesIO(response.content))\n",
        "\n",
        "        # Définir le nom du fichier\n",
        "        if not save_name:\n",
        "            save_name = os.path.basename(url)\n",
        "\n",
        "        # Créer le chemin complet du fichier\n",
        "        save_path = os.path.join(save_directory, save_name)\n",
        "\n",
        "        # Sauvegarder l'image\n",
        "        image.save(save_path)\n",
        "\n",
        "        print(f\"L'image a été sauvegardée sous {save_path}\")\n",
        "\n",
        "    except requests.exceptions.RequestException as e:\n",
        "        print(f\"Erreur lors du téléchargement de l'image : {e}\")\n",
        "    except IOError as e:\n",
        "        print(f\"Erreur lors de la sauvegarde de l'image : {e}\")\n",
        "\n",
        "if __name__ == \"__main__\":\n",
        "    # Exemple d'utilisation\n",
        "    url = \"https://api.dofusdb.fr/img/worlds/1/1/40.jpg\"\n",
        "    save_directory = \"/content/Kylian_Dofus/images\"\n",
        "\n",
        "    # Créer le répertoire de sauvegarde s'il n'existe pas\n",
        "    os.makedirs(save_directory, exist_ok=True)\n",
        "\n",
        "    # Télécharger et sauvegarder l'image\n",
        "    download_image(url, save_directory)\n",
        "\n",
        "# Configurer Git\n",
        "!git config --global user.name \"ThomasDarras\"\n",
        "!git config --global user.email \"thomasdarras45@example.com\"\n",
        "\n",
        "# Ajouter les modifications\n",
        "!git add /content/Kylian_Dofus/images\n",
        "\n",
        "# Commiter les modifications\n",
        "!git commit -m \"Ajout de nouvelles images\"\n",
        "\n",
        "# Pousser les modifications\n",
        "!git push origin main\n"
      ]
    }
  ]
}